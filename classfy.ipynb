{
 "cells": [
  {
   "cell_type": "code",
   "execution_count": 66,
   "metadata": {},
   "outputs": [
    {
     "data": {
      "text/plain": [
       "'1.12.1+cu116'"
      ]
     },
     "execution_count": 66,
     "metadata": {},
     "output_type": "execute_result"
    }
   ],
   "source": [
    "import numpy as np \n",
    "import torch\n",
    "import torchvision \n",
    "import torch.nn as nn\n",
    "import torch.nn.functional as f\n",
    "torch.__version__"
   ]
  },
  {
   "cell_type": "code",
   "execution_count": 67,
   "metadata": {},
   "outputs": [
    {
     "name": "stdout",
     "output_type": "stream",
     "text": [
      "x_train shape: (50000, 32, 32, 3)\n",
      "x_test shape:  (10000, 32, 32, 3)\n",
      "y_train shape:  (50000,)\n",
      "y_test shape:  (10000,)\n",
      "(32, 32, 3)\n",
      "data shape check\n",
      "train set: (50000, 32, 32, 3)\n",
      "test set: (10000, 32, 32, 3)\n",
      "label numbers: 10\n"
     ]
    }
   ],
   "source": [
    "import nbformat\n",
    "# run the preprocessing notebook within this notebook to get the custom dataset objects\n",
    "%run preprocessing.ipynb #https://stackoverflow.com/questions/20186344/importing-an-ipynb-file-from-another-ipynb-file"
   ]
  },
  {
   "cell_type": "code",
   "execution_count": 68,
   "metadata": {},
   "outputs": [
    {
     "name": "stdout",
     "output_type": "stream",
     "text": [
      "<__main__.CIFAR10Dataset object at 0x000001EBD0FE8850>\n"
     ]
    }
   ],
   "source": [
    "from torchvision import datasets\n",
    "import torchvision.transforms as transforms \n",
    "transform = transforms.Compose([transforms.ToTensor(), transforms.Normalize((0.5, 0.5, 0.5),(0.5, 0.5, 0.5))])\n",
    "\n",
    "# train_dataset = datasets.CIFAR10(root=\"./\", train=True, download=False, transform=transform)\n",
    "# test_dataset = datasets.CIFAR10(root=\"./\", train=False, download=False, transform=transform)\n",
    "\n",
    "print(train_dataset)\n",
    "\n",
    "train_loader = torch.utils.data.DataLoader(train_dataset, batch_size=128, shuffle=True)\n",
    "test_loader = torch.utils.data.DataLoader(test_dataset, batch_size=128, shuffle=False)"
   ]
  },
  {
   "cell_type": "code",
   "execution_count": 69,
   "metadata": {},
   "outputs": [
    {
     "data": {
      "text/plain": [
       "torch.Size([3, 32, 32])"
      ]
     },
     "execution_count": 69,
     "metadata": {},
     "output_type": "execute_result"
    }
   ],
   "source": [
    "train_dataset[0][0].size() #verify dimensions "
   ]
  },
  {
   "cell_type": "code",
   "execution_count": 70,
   "metadata": {},
   "outputs": [],
   "source": [
    "class ConvNet(nn.Module): \n",
    "  def __init__(self, output_dim): \n",
    "    super().__init__() \n",
    "\n",
    "    #two layesr for convolution \n",
    "    self.conv1 = nn.Conv2d(3, 64, kernel_size=3, padding=1) \n",
    "    self.maxPool1 = nn.MaxPool2d(kernel_size=2) #32x32 -> 16x16\n",
    "\n",
    "    self.conv2 = nn.Conv2d(64, 10, kernel_size=3, padding=1)\n",
    "    self.maxPool2 = nn.MaxPool2d(kernel_size=2) #16x16 -> 8x8\n",
    "\n",
    "    #two fully connected layers \n",
    "    self.fc1 = nn.Linear(640, 2080) #8x8x10 = 640\n",
    "    self.fc2 = nn.Linear(2080, output_dim)\n",
    "    \n",
    "  def forward(self, x): #forward prop \n",
    "    x= f.relu(self.conv1(x)) \n",
    "    x = self.maxPool1(x)\n",
    "    x= f.relu(self.conv2(x)) \n",
    "    x = self.maxPool2(x)\n",
    "\n",
    "    x = torch.flatten(x, 1)\n",
    "\n",
    "    x = f.relu(self.fc1(x))\n",
    "    x = self.fc2(x)\n",
    "\n",
    "    return x "
   ]
  },
  {
   "cell_type": "code",
   "execution_count": 71,
   "metadata": {},
   "outputs": [
    {
     "name": "stdout",
     "output_type": "stream",
     "text": [
      "cuda\n"
     ]
    },
    {
     "data": {
      "text/plain": [
       "<torch._C.Generator at 0x1eb1a7df090>"
      ]
     },
     "execution_count": 71,
     "metadata": {},
     "output_type": "execute_result"
    }
   ],
   "source": [
    "DEVICE = torch.device(\"cuda\") # for using gpu \n",
    "OUTPUT_DIM = 10 \n",
    "LEARNING_RATE = 0.001\n",
    "NUM_EPOCHS = 5 \n",
    "print(DEVICE)\n",
    "torch.manual_seed(87)"
   ]
  },
  {
   "cell_type": "code",
   "execution_count": 72,
   "metadata": {},
   "outputs": [],
   "source": [
    "model = ConvNet(OUTPUT_DIM).to(DEVICE) \n",
    "criterion = nn.CrossEntropyLoss() \n",
    "optimizer = torch.optim.SGD(model.parameters(), lr=LEARNING_RATE, momentum=0.9)"
   ]
  },
  {
   "cell_type": "code",
   "execution_count": 73,
   "metadata": {},
   "outputs": [],
   "source": [
    "def eval_accuracy(loader): \n",
    "  model.eval() #set model to inference \n",
    "  yTrue = []\n",
    "  yPred = []\n",
    "\n",
    "  count = 0 \n",
    "  accuracy_sum = 0 \n",
    "\n",
    "  with torch.no_grad(): \n",
    "    for x, y, in loader: \n",
    "      x = x.float().to(DEVICE)\n",
    "      y = y.to(DEVICE)\n",
    "      outputs = model.forward(x)\n",
    "\n",
    "      outputs = outputs.cpu().numpy() \n",
    "      yPred = np.argmax(outputs, axis=1)\n",
    "      y = y.cpu().numpy()\n",
    "\n",
    "      match = (y == yPred).astype('uint8')\n",
    "      accuracy_sum += np.sum(match)\n",
    "      count += len(match)\n",
    "\n",
    "  accuracy = accuracy_sum/count \n",
    "  return accuracy "
   ]
  },
  {
   "cell_type": "code",
   "execution_count": 74,
   "metadata": {},
   "outputs": [
    {
     "name": "stdout",
     "output_type": "stream",
     "text": [
      "Average Loss at epoch 1: 2.1523\n",
      "train accuracy: 0.3115\n",
      "test accuracy: 0.3217\n",
      "Average Loss at epoch 2: 1.8070\n",
      "train accuracy: 0.3945\n",
      "test accuracy: 0.3991\n",
      "Average Loss at epoch 3: 1.6350\n",
      "train accuracy: 0.4479\n",
      "test accuracy: 0.4466\n",
      "Average Loss at epoch 4: 1.5231\n",
      "train accuracy: 0.4728\n",
      "test accuracy: 0.4694\n",
      "Average Loss at epoch 5: 1.4432\n",
      "train accuracy: 0.5008\n",
      "test accuracy: 0.4925\n"
     ]
    }
   ],
   "source": [
    "model.train() #Sets the module in training mode.\n",
    "avg_losses = []\n",
    "for i in range(NUM_EPOCHS): \n",
    "  loss_record = []\n",
    "\n",
    "  # x=input image y=label \n",
    "  for(x, y) in train_loader: \n",
    "    x = x.float().to(DEVICE) \n",
    "    y = y.type(torch.LongTensor) #stackoverflow https://stackoverflow.com/questions/69742930/runtimeerror-nll-loss-forward-reduce-cuda-kernel-2d-index-not-implemented-for\n",
    "    y = y.to(DEVICE)\n",
    "\n",
    "    outputs = model.forward(x)\n",
    "    loss = criterion(outputs, y) \n",
    "    loss_record.append(loss.item())\n",
    "\n",
    "    optimizer.zero_grad() #reset gradient for each batch \n",
    "    loss.backward() \n",
    "    optimizer.step() \n",
    "\n",
    "  avg_loss = np.mean(loss_record)\n",
    "  avg_losses.append(avg_loss)\n",
    "  print(\"Average Loss at epoch %d: %.4f\" %(i+1, avg_loss))\n",
    "  train_accuracy = eval_accuracy(train_loader)\n",
    "  test_accuracy = eval_accuracy(test_loader)\n",
    "  print(\"train accuracy: %.4f\" %(train_accuracy))\n",
    "  print(\"test accuracy: %.4f\" %(test_accuracy))\n",
    "\n"
   ]
  },
  {
   "cell_type": "code",
   "execution_count": 75,
   "metadata": {},
   "outputs": [
    {
     "name": "stdout",
     "output_type": "stream",
     "text": [
      "[2.1522570256991767, 1.8070406889366677, 1.635048664744248, 1.5231098714082136, 1.443206578874222]\n"
     ]
    }
   ],
   "source": [
    "print(avg_losses)"
   ]
  },
  {
   "cell_type": "code",
   "execution_count": 79,
   "metadata": {},
   "outputs": [
    {
     "name": "stdout",
     "output_type": "stream",
     "text": [
      "[1, 2, 3, 4, 5]\n"
     ]
    },
    {
     "data": {
      "text/plain": [
       "[<matplotlib.lines.Line2D at 0x1eb3f0a9b50>]"
      ]
     },
     "execution_count": 79,
     "metadata": {},
     "output_type": "execute_result"
    },
    {
     "data": {
      "image/png": "[encoded data removed]",
      "text/plain": [
       "<Figure size 432x288 with 1 Axes>"
      ]
     },
     "metadata": {
      "needs_background": "light"
     },
     "output_type": "display_data"
    }
   ],
   "source": [
    "import matplotlib.pyplot as plt\n",
    "x_axis = [i for i in range(1, NUM_EPOCHS+1)]\n",
    "print(x_axis)\n",
    "plt.xlabel('epochs')\n",
    "plt.ylabel('mean loss')\n",
    "plt.axis([1, NUM_EPOCHS, 1, 2.5])\n",
    "plt.plot(x_axis, avg_losses)"
   ]
  }
 ],
 "metadata": {
  "kernelspec": {
   "display_name": "Python 3.9.6 64-bit",
   "language": "python",
   "name": "python3"
  },
  "language_info": {
   "codemirror_mode": {
    "name": "ipython",
    "version": 3
   },
   "file_extension": ".py",
   "mimetype": "text/x-python",
   "name": "python",
   "nbconvert_exporter": "python",
   "pygments_lexer": "ipython3",
   "version": "3.9.6"
  },
  "orig_nbformat": 4,
  "vscode": {
   "interpreter": {
    "hash": "1815185673768c93534b08cc73460eca1623958219b490d3ec3e81a5fb27804a"
   }
  }
 },
 "nbformat": 4,
 "nbformat_minor": 2
}
