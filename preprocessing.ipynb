{
 "cells": [
  {
   "cell_type": "code",
   "execution_count": 17,
   "metadata": {},
   "outputs": [],
   "source": [
    "import numpy as np \n",
    "import torch\n",
    "import torchvision.transforms as transforms\n",
    "from torch.utils.data import Dataset"
   ]
  },
  {
   "cell_type": "code",
   "execution_count": 18,
   "metadata": {},
   "outputs": [],
   "source": [
    "# function given from the cifar-10 download link \n",
    "def unpickle(file):\n",
    "    import pickle\n",
    "    with open(file, 'rb') as fo:\n",
    "        dict = pickle.load(fo, encoding='latin1')\n",
    "    data = dict['data']\n",
    "    labels = dict['labels']\n",
    "    return data, labels #we just want the data(img values) and labels "
   ]
  },
  {
   "cell_type": "code",
   "execution_count": 19,
   "metadata": {},
   "outputs": [
    {
     "data": {
      "text/plain": [
       "(10000, 3072)"
      ]
     },
     "execution_count": 19,
     "metadata": {},
     "output_type": "execute_result"
    }
   ],
   "source": [
    "#extract training data from the 5 batches \n",
    "b1, l1 = unpickle(r'cifar-10-batches-py\\data_batch_1')\n",
    "b2, l2 = unpickle(r'cifar-10-batches-py\\data_batch_2')\n",
    "b3, l3 = unpickle(r'cifar-10-batches-py\\data_batch_3')\n",
    "b4, l4 = unpickle(r'cifar-10-batches-py\\data_batch_4')\n",
    "b5, l5 = unpickle(r'cifar-10-batches-py\\data_batch_5')\n",
    "\n",
    "#extract test data\n",
    "test, testLabels = unpickle(r'cifar-10-batches-py\\test_batch')\n",
    "test.shape"
   ]
  },
  {
   "cell_type": "code",
   "execution_count": 20,
   "metadata": {},
   "outputs": [
    {
     "data": {
      "text/plain": [
       "((50000, 3072), (50000,))"
      ]
     },
     "execution_count": 20,
     "metadata": {},
     "output_type": "execute_result"
    }
   ],
   "source": [
    "#merge all the training data to one big array \n",
    "x_train = np.concatenate([b1,b2,b3,b4,b5])\n",
    "y_train = np.concatenate([l1,l2,l3,l4,l5])\n",
    "x_train.shape, y_train.shape\n"
   ]
  },
  {
   "cell_type": "code",
   "execution_count": 21,
   "metadata": {},
   "outputs": [
    {
     "name": "stdout",
     "output_type": "stream",
     "text": [
      "x_train shape: (50000, 32, 32, 3)\n",
      "x_test shape:  (10000, 32, 32, 3)\n",
      "y_train shape:  (50000,)\n",
      "y_test shape:  (10000,)\n"
     ]
    }
   ],
   "source": [
    "x_train = x_train.reshape(len(x_train),3,32,32)\n",
    "# Transpose the whole data\n",
    "x_train = x_train.transpose(0,2,3,1)\n",
    "print(\"x_train shape:\", x_train.shape)\n",
    "\n",
    "x_test = test.reshape(len(test), 3, 32, 32)\n",
    "x_test = x_test.transpose(0,2,3,1)\n",
    "print(\"x_test shape: \", x_test.shape)\n",
    "\n",
    "y_test = np.array(testLabels)\n",
    "\n",
    "print(\"y_train shape: \", y_train.shape)\n",
    "print(\"y_test shape: \", y_test.shape)"
   ]
  },
  {
   "cell_type": "code",
   "execution_count": 22,
   "metadata": {},
   "outputs": [
    {
     "name": "stdout",
     "output_type": "stream",
     "text": [
      "(32, 32, 3)\n"
     ]
    }
   ],
   "source": [
    "print(x_train[0].shape)"
   ]
  },
  {
   "cell_type": "code",
   "execution_count": 23,
   "metadata": {},
   "outputs": [],
   "source": [
    "from PIL import Image\n",
    "class CIFAR10Dataset(Dataset): \n",
    "    def __init__(self, data, labels, transform=None): \n",
    "        self.data = data\n",
    "        self.labels = labels\n",
    "        self.transform = transform\n",
    "        self.shape = data.shape\n",
    "    \n",
    "    def __len__(self): \n",
    "        return len(self.data)\n",
    "    \n",
    "    def __getitem__(self, idx): \n",
    "        image = Image.fromarray(self.data[idx])\n",
    "        label = self.labels[idx]\n",
    "        \n",
    "        if self.transform: \n",
    "            image = self.transform(image)\n",
    "        else: \n",
    "            image = transforms.ToTensor(image)\n",
    "        \n",
    "        return image, label \n"
   ]
  },
  {
   "cell_type": "code",
   "execution_count": 24,
   "metadata": {},
   "outputs": [],
   "source": [
    "transform = transforms.Compose([transforms.ToTensor(), transforms.Normalize((0.5, 0.5, 0.5),(0.5, 0.5, 0.5))])\n",
    "\n",
    "train_dataset = CIFAR10Dataset(x_train, y_train, transform=transform)\n",
    "test_dataset = CIFAR10Dataset(x_test, y_test, transform=transform)"
   ]
  },
  {
   "cell_type": "code",
   "execution_count": 25,
   "metadata": {},
   "outputs": [
    {
     "name": "stdout",
     "output_type": "stream",
     "text": [
      "data shape check\n",
      "train set: (50000, 32, 32, 3)\n",
      "test set: (10000, 32, 32, 3)\n",
      "label numbers: 10\n"
     ]
    }
   ],
   "source": [
    "print('data shape check')\n",
    "print('train set: ' + format(train_dataset.shape))\n",
    "print('test set: ' + format(test_dataset.shape))\n",
    "print('label numbers: ' + format(len(set(train_dataset.labels))))"
   ]
  }
 ],
 "metadata": {
  "kernelspec": {
   "display_name": "Python 3.9.6 64-bit",
   "language": "python",
   "name": "python3"
  },
  "language_info": {
   "codemirror_mode": {
    "name": "ipython",
    "version": 3
   },
   "file_extension": ".py",
   "mimetype": "text/x-python",
   "name": "python",
   "nbconvert_exporter": "python",
   "pygments_lexer": "ipython3",
   "version": "3.9.6"
  },
  "orig_nbformat": 4,
  "vscode": {
   "interpreter": {
    "hash": "1815185673768c93534b08cc73460eca1623958219b490d3ec3e81a5fb27804a"
   }
  }
 },
 "nbformat": 4,
 "nbformat_minor": 2
}
