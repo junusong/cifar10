{
 "cells": [
  {
   "cell_type": "code",
   "execution_count": 8,
   "metadata": {},
   "outputs": [
    {
     "data": {
      "text/plain": [
       "'1.12.1+cu116'"
      ]
     },
     "execution_count": 8,
     "metadata": {},
     "output_type": "execute_result"
    }
   ],
   "source": [
    "import numpy as np \n",
    "import torch\n",
    "import torchvision \n",
    "import torch.nn as nn\n",
    "import torch.nn.functional as f\n",
    "torch.__version__"
   ]
  },
  {
   "cell_type": "code",
   "execution_count": 9,
   "metadata": {},
   "outputs": [
    {
     "name": "stdout",
     "output_type": "stream",
     "text": [
      "Dataset CIFAR10\n",
      "    Number of datapoints: 50000\n",
      "    Root location: ./\n",
      "    Split: Train\n",
      "    StandardTransform\n",
      "Transform: Compose(\n",
      "               ToTensor()\n",
      "               Normalize(mean=(0.5, 0.5, 0.5), std=(0.5, 0.5, 0.5))\n",
      "           )\n"
     ]
    }
   ],
   "source": [
    "from torchvision import datasets\n",
    "import torchvision.transforms as transforms \n",
    "transform = transforms.Compose([transforms.ToTensor(), transforms.Normalize((0.5, 0.5, 0.5),(0.5, 0.5, 0.5))])\n",
    "\n",
    "train_dataset = datasets.CIFAR10(root=\"./\", train=True, download=False, transform=transform)\n",
    "test_dataset = datasets.CIFAR10(root=\"./\", train=False, download=False, transform=transform)\n",
    "print(train_dataset)\n",
    "\n",
    "train_loader = torch.utils.data.DataLoader(train_dataset, batch_size=128, shuffle=True)\n",
    "test_loader = torch.utils.data.DataLoader(test_dataset, batch_size=128, shuffle=False)"
   ]
  },
  {
   "cell_type": "code",
   "execution_count": 10,
   "metadata": {},
   "outputs": [
    {
     "data": {
      "text/plain": [
       "torch.Size([3, 32, 32])"
      ]
     },
     "execution_count": 10,
     "metadata": {},
     "output_type": "execute_result"
    }
   ],
   "source": [
    "train_dataset[0][0].size()"
   ]
  },
  {
   "cell_type": "code",
   "execution_count": 11,
   "metadata": {},
   "outputs": [],
   "source": [
    "class ConvNet(nn.Module): \n",
    "  def __init__(self, output_dim): \n",
    "    super().__init__() \n",
    "\n",
    "    #two layesr for convolution \n",
    "    self.conv1 = nn.Conv2d(3, 64, kernel_size=3, padding=1) \n",
    "    self.maxPool1 = nn.MaxPool2d(kernel_size=2) #32x32 -> 16x16\n",
    "\n",
    "    self.conv2 = nn.Conv2d(64, 10, kernel_size=3, padding=1)\n",
    "    self.maxPool2 = nn.MaxPool2d(kernel_size=2) #16x16 -> 8x8\n",
    "\n",
    "    #two fully connected layers \n",
    "    self.fc1 = nn.Linear(640, 2080) #8x8x10 = 640\n",
    "    self.fc2 = nn.Linear(2080, output_dim)\n",
    "    \n",
    "  def forward(self, x): #forward prop \n",
    "    x= f.relu(self.conv1(x)) \n",
    "    x = self.maxPool1(x)\n",
    "    x= f.relu(self.conv2(x)) \n",
    "    x = self.maxPool2(x)\n",
    "\n",
    "    x = torch.flatten(x, 1)\n",
    "\n",
    "    x = f.relu(self.fc1(x))\n",
    "    x = self.fc2(x)\n",
    "\n",
    "    return x "
   ]
  },
  {
   "cell_type": "code",
   "execution_count": 12,
   "metadata": {},
   "outputs": [
    {
     "name": "stdout",
     "output_type": "stream",
     "text": [
      "cuda\n"
     ]
    }
   ],
   "source": [
    "DEVICE = torch.device(\"cuda\") # for using gpu \n",
    "OUTPUT_DIM = 10 \n",
    "LEARNING_RATE = 0.001\n",
    "NUM_EPOCHS = 5 \n",
    "print(DEVICE)"
   ]
  },
  {
   "cell_type": "code",
   "execution_count": 13,
   "metadata": {},
   "outputs": [],
   "source": [
    "model = ConvNet(OUTPUT_DIM).to(DEVICE) \n",
    "criterion = nn.CrossEntropyLoss() \n",
    "optimizer = torch.optim.SGD(model.parameters(), lr=LEARNING_RATE, momentum=0.9)"
   ]
  },
  {
   "cell_type": "code",
   "execution_count": 15,
   "metadata": {},
   "outputs": [],
   "source": [
    "def eval_accuracy(loader): \n",
    "  model.eval() #set model to inference \n",
    "  yTrue = []\n",
    "  yPred = []\n",
    "\n",
    "  count = 0 \n",
    "  accuracy_sum = 0 \n",
    "\n",
    "  with torch.no_grad(): \n",
    "    for x, y, in loader: \n",
    "      x = x.float().to(DEVICE)\n",
    "      y = y.to(DEVICE)\n",
    "      outputs = model.forward(x)\n",
    "\n",
    "      outputs = outputs.cpu().numpy() \n",
    "      yPred = np.argmax(outputs, axis=1)\n",
    "      y = y.numpy()\n",
    "\n",
    "      match = (y == yPred).astype('uint8')\n",
    "      accuracy_sum += np.sum(match)\n",
    "      count += len(match)\n",
    "\n",
    "  accuracy = accuracy_sum/count \n",
    "  return accuracy "
   ]
  },
  {
   "cell_type": "code",
   "execution_count": 17,
   "metadata": {},
   "outputs": [
    {
     "name": "stdout",
     "output_type": "stream",
     "text": [
      "Loss at epoch 1: 1.3933\n",
      "train accuracy: 0.5192\n",
      "test accuracy: 0.5116\n",
      "Loss at epoch 2: 1.3288\n",
      "train accuracy: 0.5342\n",
      "test accuracy: 0.5218\n",
      "Loss at epoch 3: 1.2818\n",
      "train accuracy: 0.5572\n",
      "test accuracy: 0.5433\n",
      "Loss at epoch 4: 1.2428\n",
      "train accuracy: 0.5722\n",
      "test accuracy: 0.5527\n",
      "Loss at epoch 5: 1.2011\n",
      "train accuracy: 0.5778\n",
      "test accuracy: 0.5562\n"
     ]
    }
   ],
   "source": [
    "model.train() #Sets the module in training mode.\n",
    "\n",
    "for i in range(NUM_EPOCHS): \n",
    "  loss_record = []\n",
    "\n",
    "  # x=input image y=label \n",
    "  for(x, y) in train_loader: \n",
    "    x = x.float().to(DEVICE) \n",
    "    y = y.to(DEVICE)\n",
    "\n",
    "    outputs = model.forward(x)\n",
    "    loss = criterion(outputs, y) \n",
    "    loss_record.append(loss.item())\n",
    "\n",
    "    optimizer.zero_grad() #reset gradient for each batch \n",
    "    loss.backward() \n",
    "    optimizer.step() \n",
    "  \n",
    "  print(\"Loss at epoch %d: %.4f\" %(i+1, np.mean(loss_record)))\n",
    "  train_accuracy = eval_accuracy(train_loader)\n",
    "  test_accuracy = eval_accuracy(test_loader)\n",
    "  print(\"train accuracy: %.4f\" %(train_accuracy))\n",
    "  print(\"test accuracy: %.4f\" %(test_accuracy))\n"
   ]
  }
 ],
 "metadata": {
  "kernelspec": {
   "display_name": "Python 3.9.6 64-bit",
   "language": "python",
   "name": "python3"
  },
  "language_info": {
   "codemirror_mode": {
    "name": "ipython",
    "version": 3
   },
   "file_extension": ".py",
   "mimetype": "text/x-python",
   "name": "python",
   "nbconvert_exporter": "python",
   "pygments_lexer": "ipython3",
   "version": "3.9.6"
  },
  "orig_nbformat": 4,
  "vscode": {
   "interpreter": {
    "hash": "1815185673768c93534b08cc73460eca1623958219b490d3ec3e81a5fb27804a"
   }
  }
 },
 "nbformat": 4,
 "nbformat_minor": 2
}
